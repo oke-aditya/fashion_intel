{
  "nbformat": 4,
  "nbformat_minor": 0,
  "metadata": {
    "colab": {
      "name": "Fashion_Object_detector.ipynb",
      "provenance": [],
      "toc_visible": true
    },
    "kernelspec": {
      "name": "python3",
      "display_name": "Python 3"
    },
    "accelerator": "GPU"
  },
  "cells": [
    {
      "cell_type": "markdown",
      "metadata": {
        "id": "R4ripBL7DTO8",
        "colab_type": "text"
      },
      "source": [
        "# Training Object detector."
      ]
    },
    {
      "cell_type": "code",
      "metadata": {
        "id": "0tORymPGDiY4",
        "colab_type": "code",
        "colab": {
          "base_uri": "https://localhost:8080/",
          "height": 55
        },
        "outputId": "f628696a-8cf0-4085-d20a-8d9d2f9de89f"
      },
      "source": [
        "from google.colab import drive\n",
        "drive.mount('/content/drive')"
      ],
      "execution_count": 21,
      "outputs": [
        {
          "output_type": "stream",
          "text": [
            "Drive already mounted at /content/drive; to attempt to forcibly remount, call drive.mount(\"/content/drive\", force_remount=True).\n"
          ],
          "name": "stdout"
        }
      ]
    },
    {
      "cell_type": "code",
      "metadata": {
        "id": "c9TVM5WhQgKh",
        "colab_type": "code",
        "colab": {}
      },
      "source": [
        "# !rm -rf \"/content/drive/My Drive/src/img\""
      ],
      "execution_count": null,
      "outputs": []
    },
    {
      "cell_type": "code",
      "metadata": {
        "id": "AhmqRFd2Se3z",
        "colab_type": "code",
        "colab": {
          "base_uri": "https://localhost:8080/",
          "height": 35
        },
        "outputId": "6005b074-152b-41e8-9694-e213c9eb209c"
      },
      "source": [
        "%cd \"/content/drive/My Drive/src/\""
      ],
      "execution_count": 2,
      "outputs": [
        {
          "output_type": "stream",
          "text": [
            "/content/drive/My Drive/src\n"
          ],
          "name": "stdout"
        }
      ]
    },
    {
      "cell_type": "code",
      "metadata": {
        "id": "szUZ47boQj5O",
        "colab_type": "code",
        "colab": {
          "base_uri": "https://localhost:8080/",
          "height": 73
        },
        "outputId": "79cff4dd-7e5a-46af-bbef-3f4dfff97d5e"
      },
      "source": [
        "!unzip \"img.zip\""
      ],
      "execution_count": 22,
      "outputs": [
        {
          "output_type": "stream",
          "text": [
            "Archive:  img.zip\n",
            "replace img/MEN/Denim/id_00000080/01_1_front.jpg? [y]es, [n]o, [A]ll, [N]one, [r]ename: N\n"
          ],
          "name": "stdout"
        }
      ]
    },
    {
      "cell_type": "code",
      "metadata": {
        "id": "ai_pylFADeIo",
        "colab_type": "code",
        "colab": {
          "base_uri": "https://localhost:8080/",
          "height": 400
        },
        "outputId": "dec2a3dd-76ce-4961-e6e6-8e52e37e83cf"
      },
      "source": [
        "!nvidia-smi"
      ],
      "execution_count": 4,
      "outputs": [
        {
          "output_type": "stream",
          "text": [
            "Fri Aug  7 16:05:29 2020       \n",
            "+-----------------------------------------------------------------------------+\n",
            "| NVIDIA-SMI 450.57       Driver Version: 418.67       CUDA Version: 10.1     |\n",
            "|-------------------------------+----------------------+----------------------+\n",
            "| GPU  Name        Persistence-M| Bus-Id        Disp.A | Volatile Uncorr. ECC |\n",
            "| Fan  Temp  Perf  Pwr:Usage/Cap|         Memory-Usage | GPU-Util  Compute M. |\n",
            "|                               |                      |               MIG M. |\n",
            "|===============================+======================+======================|\n",
            "|   0  Tesla K80           Off  | 00000000:00:04.0 Off |                    0 |\n",
            "| N/A   36C    P8    27W / 149W |      0MiB / 11441MiB |      0%      Default |\n",
            "|                               |                      |                 ERR! |\n",
            "+-------------------------------+----------------------+----------------------+\n",
            "                                                                               \n",
            "+-----------------------------------------------------------------------------+\n",
            "| Processes:                                                                  |\n",
            "|  GPU   GI   CI        PID   Type   Process name                  GPU Memory |\n",
            "|        ID   ID                                                   Usage      |\n",
            "|=============================================================================|\n",
            "|  No running processes found                                                 |\n",
            "+-----------------------------------------------------------------------------+\n"
          ],
          "name": "stdout"
        }
      ]
    },
    {
      "cell_type": "code",
      "metadata": {
        "id": "2f3UFSJhIP4p",
        "colab_type": "code",
        "colab": {}
      },
      "source": [
        "import pandas as pd"
      ],
      "execution_count": 5,
      "outputs": []
    },
    {
      "cell_type": "code",
      "metadata": {
        "id": "HA1GHu-9H3UA",
        "colab_type": "code",
        "colab": {}
      },
      "source": [
        "df = pd.read_csv(\"/content/drive/My Drive/src/final_data.csv\")"
      ],
      "execution_count": 6,
      "outputs": []
    },
    {
      "cell_type": "code",
      "metadata": {
        "id": "PUKYi4QPISm4",
        "colab_type": "code",
        "colab": {
          "base_uri": "https://localhost:8080/",
          "height": 504
        },
        "outputId": "c4495ca5-2db5-417c-b2c5-9b58b7a68aa9"
      },
      "source": [
        "df.head()"
      ],
      "execution_count": 7,
      "outputs": [
        {
          "output_type": "execute_result",
          "data": {
            "text/html": [
              "<div>\n",
              "<style scoped>\n",
              "    .dataframe tbody tr th:only-of-type {\n",
              "        vertical-align: middle;\n",
              "    }\n",
              "\n",
              "    .dataframe tbody tr th {\n",
              "        vertical-align: top;\n",
              "    }\n",
              "\n",
              "    .dataframe thead th {\n",
              "        text-align: right;\n",
              "    }\n",
              "</style>\n",
              "<table border=\"1\" class=\"dataframe\">\n",
              "  <thead>\n",
              "    <tr style=\"text-align: right;\">\n",
              "      <th></th>\n",
              "      <th>Unnamed: 0</th>\n",
              "      <th>image_id</th>\n",
              "      <th>xtl</th>\n",
              "      <th>ytl</th>\n",
              "      <th>xbr</th>\n",
              "      <th>ybr</th>\n",
              "      <th>target</th>\n",
              "      <th>final_target</th>\n",
              "    </tr>\n",
              "  </thead>\n",
              "  <tbody>\n",
              "    <tr>\n",
              "      <th>0</th>\n",
              "      <td>0</td>\n",
              "      <td>img/WOMEN/Blouses_Shirts/id_00000001/02_1_fron...</td>\n",
              "      <td>50</td>\n",
              "      <td>49</td>\n",
              "      <td>208</td>\n",
              "      <td>235</td>\n",
              "      <td>WOMEN_Blouses_Shirts</td>\n",
              "      <td>17</td>\n",
              "    </tr>\n",
              "    <tr>\n",
              "      <th>1</th>\n",
              "      <td>1</td>\n",
              "      <td>img/WOMEN/Blouses_Shirts/id_00000001/02_2_side...</td>\n",
              "      <td>119</td>\n",
              "      <td>48</td>\n",
              "      <td>136</td>\n",
              "      <td>234</td>\n",
              "      <td>WOMEN_Blouses_Shirts</td>\n",
              "      <td>17</td>\n",
              "    </tr>\n",
              "    <tr>\n",
              "      <th>2</th>\n",
              "      <td>2</td>\n",
              "      <td>img/WOMEN/Blouses_Shirts/id_00000001/02_3_back...</td>\n",
              "      <td>50</td>\n",
              "      <td>42</td>\n",
              "      <td>213</td>\n",
              "      <td>240</td>\n",
              "      <td>WOMEN_Blouses_Shirts</td>\n",
              "      <td>17</td>\n",
              "    </tr>\n",
              "    <tr>\n",
              "      <th>3</th>\n",
              "      <td>3</td>\n",
              "      <td>img/WOMEN/Blouses_Shirts/id_00000001/02_4_full...</td>\n",
              "      <td>82</td>\n",
              "      <td>30</td>\n",
              "      <td>162</td>\n",
              "      <td>129</td>\n",
              "      <td>WOMEN_Blouses_Shirts</td>\n",
              "      <td>17</td>\n",
              "    </tr>\n",
              "    <tr>\n",
              "      <th>4</th>\n",
              "      <td>4</td>\n",
              "      <td>img/WOMEN/Dresses/id_00000002/02_1_front.jpg</td>\n",
              "      <td>65</td>\n",
              "      <td>45</td>\n",
              "      <td>233</td>\n",
              "      <td>252</td>\n",
              "      <td>WOMEN_Dresses</td>\n",
              "      <td>8</td>\n",
              "    </tr>\n",
              "  </tbody>\n",
              "</table>\n",
              "</div>"
            ],
            "text/plain": [
              "   Unnamed: 0  ... final_target\n",
              "0           0  ...           17\n",
              "1           1  ...           17\n",
              "2           2  ...           17\n",
              "3           3  ...           17\n",
              "4           4  ...            8\n",
              "\n",
              "[5 rows x 8 columns]"
            ]
          },
          "metadata": {
            "tags": []
          },
          "execution_count": 7
        }
      ]
    },
    {
      "cell_type": "code",
      "metadata": {
        "id": "jRX2riGeTyMb",
        "colab_type": "code",
        "colab": {}
      },
      "source": [
        "import numpy as np"
      ],
      "execution_count": 8,
      "outputs": []
    },
    {
      "cell_type": "code",
      "metadata": {
        "id": "8mFQa_XIIVrf",
        "colab_type": "code",
        "colab": {}
      },
      "source": [
        "df = df.drop([\"Unnamed: 0\", \"target\"], axis=1)"
      ],
      "execution_count": 9,
      "outputs": []
    },
    {
      "cell_type": "code",
      "metadata": {
        "id": "RaxoYtMSIcNw",
        "colab_type": "code",
        "colab": {
          "base_uri": "https://localhost:8080/",
          "height": 597
        },
        "outputId": "3d80672d-9e67-442e-8049-691ae15504f3"
      },
      "source": [
        "df"
      ],
      "execution_count": 10,
      "outputs": [
        {
          "output_type": "execute_result",
          "data": {
            "text/html": [
              "<div>\n",
              "<style scoped>\n",
              "    .dataframe tbody tr th:only-of-type {\n",
              "        vertical-align: middle;\n",
              "    }\n",
              "\n",
              "    .dataframe tbody tr th {\n",
              "        vertical-align: top;\n",
              "    }\n",
              "\n",
              "    .dataframe thead th {\n",
              "        text-align: right;\n",
              "    }\n",
              "</style>\n",
              "<table border=\"1\" class=\"dataframe\">\n",
              "  <thead>\n",
              "    <tr style=\"text-align: right;\">\n",
              "      <th></th>\n",
              "      <th>image_id</th>\n",
              "      <th>xtl</th>\n",
              "      <th>ytl</th>\n",
              "      <th>xbr</th>\n",
              "      <th>ybr</th>\n",
              "      <th>final_target</th>\n",
              "    </tr>\n",
              "  </thead>\n",
              "  <tbody>\n",
              "    <tr>\n",
              "      <th>0</th>\n",
              "      <td>img/WOMEN/Blouses_Shirts/id_00000001/02_1_fron...</td>\n",
              "      <td>50</td>\n",
              "      <td>49</td>\n",
              "      <td>208</td>\n",
              "      <td>235</td>\n",
              "      <td>17</td>\n",
              "    </tr>\n",
              "    <tr>\n",
              "      <th>1</th>\n",
              "      <td>img/WOMEN/Blouses_Shirts/id_00000001/02_2_side...</td>\n",
              "      <td>119</td>\n",
              "      <td>48</td>\n",
              "      <td>136</td>\n",
              "      <td>234</td>\n",
              "      <td>17</td>\n",
              "    </tr>\n",
              "    <tr>\n",
              "      <th>2</th>\n",
              "      <td>img/WOMEN/Blouses_Shirts/id_00000001/02_3_back...</td>\n",
              "      <td>50</td>\n",
              "      <td>42</td>\n",
              "      <td>213</td>\n",
              "      <td>240</td>\n",
              "      <td>17</td>\n",
              "    </tr>\n",
              "    <tr>\n",
              "      <th>3</th>\n",
              "      <td>img/WOMEN/Blouses_Shirts/id_00000001/02_4_full...</td>\n",
              "      <td>82</td>\n",
              "      <td>30</td>\n",
              "      <td>162</td>\n",
              "      <td>129</td>\n",
              "      <td>17</td>\n",
              "    </tr>\n",
              "    <tr>\n",
              "      <th>4</th>\n",
              "      <td>img/WOMEN/Dresses/id_00000002/02_1_front.jpg</td>\n",
              "      <td>65</td>\n",
              "      <td>45</td>\n",
              "      <td>233</td>\n",
              "      <td>252</td>\n",
              "      <td>8</td>\n",
              "    </tr>\n",
              "    <tr>\n",
              "      <th>...</th>\n",
              "      <td>...</td>\n",
              "      <td>...</td>\n",
              "      <td>...</td>\n",
              "      <td>...</td>\n",
              "      <td>...</td>\n",
              "      <td>...</td>\n",
              "    </tr>\n",
              "    <tr>\n",
              "      <th>52707</th>\n",
              "      <td>img/WOMEN/Jackets_Coats/id_00007982/12_7_addit...</td>\n",
              "      <td>100</td>\n",
              "      <td>38</td>\n",
              "      <td>153</td>\n",
              "      <td>143</td>\n",
              "      <td>11</td>\n",
              "    </tr>\n",
              "    <tr>\n",
              "      <th>52708</th>\n",
              "      <td>img/WOMEN/Jackets_Coats/id_00007982/13_1_front...</td>\n",
              "      <td>50</td>\n",
              "      <td>29</td>\n",
              "      <td>236</td>\n",
              "      <td>249</td>\n",
              "      <td>11</td>\n",
              "    </tr>\n",
              "    <tr>\n",
              "      <th>52709</th>\n",
              "      <td>img/WOMEN/Jackets_Coats/id_00007982/13_2_side.jpg</td>\n",
              "      <td>55</td>\n",
              "      <td>29</td>\n",
              "      <td>185</td>\n",
              "      <td>242</td>\n",
              "      <td>11</td>\n",
              "    </tr>\n",
              "    <tr>\n",
              "      <th>52710</th>\n",
              "      <td>img/WOMEN/Jackets_Coats/id_00007982/13_3_back.jpg</td>\n",
              "      <td>86</td>\n",
              "      <td>46</td>\n",
              "      <td>184</td>\n",
              "      <td>245</td>\n",
              "      <td>11</td>\n",
              "    </tr>\n",
              "    <tr>\n",
              "      <th>52711</th>\n",
              "      <td>img/WOMEN/Jackets_Coats/id_00007982/13_7_addit...</td>\n",
              "      <td>94</td>\n",
              "      <td>42</td>\n",
              "      <td>132</td>\n",
              "      <td>143</td>\n",
              "      <td>11</td>\n",
              "    </tr>\n",
              "  </tbody>\n",
              "</table>\n",
              "<p>52712 rows × 6 columns</p>\n",
              "</div>"
            ],
            "text/plain": [
              "                                                image_id  ...  final_target\n",
              "0      img/WOMEN/Blouses_Shirts/id_00000001/02_1_fron...  ...            17\n",
              "1      img/WOMEN/Blouses_Shirts/id_00000001/02_2_side...  ...            17\n",
              "2      img/WOMEN/Blouses_Shirts/id_00000001/02_3_back...  ...            17\n",
              "3      img/WOMEN/Blouses_Shirts/id_00000001/02_4_full...  ...            17\n",
              "4           img/WOMEN/Dresses/id_00000002/02_1_front.jpg  ...             8\n",
              "...                                                  ...  ...           ...\n",
              "52707  img/WOMEN/Jackets_Coats/id_00007982/12_7_addit...  ...            11\n",
              "52708  img/WOMEN/Jackets_Coats/id_00007982/13_1_front...  ...            11\n",
              "52709  img/WOMEN/Jackets_Coats/id_00007982/13_2_side.jpg  ...            11\n",
              "52710  img/WOMEN/Jackets_Coats/id_00007982/13_3_back.jpg  ...            11\n",
              "52711  img/WOMEN/Jackets_Coats/id_00007982/13_7_addit...  ...            11\n",
              "\n",
              "[52712 rows x 6 columns]"
            ]
          },
          "metadata": {
            "tags": []
          },
          "execution_count": 10
        }
      ]
    },
    {
      "cell_type": "code",
      "metadata": {
        "id": "36cS_mM8OpLu",
        "colab_type": "code",
        "colab": {
          "base_uri": "https://localhost:8080/",
          "height": 35
        },
        "outputId": "d18c69e0-e76a-4767-e235-2910b0ba2e0b"
      },
      "source": [
        "print(df['final_target'][0].dtype)"
      ],
      "execution_count": 11,
      "outputs": [
        {
          "output_type": "stream",
          "text": [
            "int64\n"
          ],
          "name": "stdout"
        }
      ]
    },
    {
      "cell_type": "code",
      "metadata": {
        "id": "7tAEy1sOTlUe",
        "colab_type": "code",
        "colab": {
          "base_uri": "https://localhost:8080/",
          "height": 35
        },
        "outputId": "48302374-8fbb-4a63-f6c4-7c453dc0d18e"
      },
      "source": [
        "print(np.unique(df['final_target']))"
      ],
      "execution_count": 12,
      "outputs": [
        {
          "output_type": "stream",
          "text": [
            "[ 1  2  3  4  5  6  7  8  9 10 11 12 13 14 15 16 17 18 19 20 21 22 23]\n"
          ],
          "name": "stdout"
        }
      ]
    },
    {
      "cell_type": "code",
      "metadata": {
        "id": "EUxuSOACtB8w",
        "colab_type": "code",
        "colab": {}
      },
      "source": [
        "# Shuffle the dataframe and sample 1/4 of it.\n",
        "# df = df.sample(frac=1).reset_index(drop=True)\n",
        "# df = df[:10000]"
      ],
      "execution_count": 16,
      "outputs": []
    },
    {
      "cell_type": "code",
      "metadata": {
        "id": "CEAiupuqtdNo",
        "colab_type": "code",
        "colab": {}
      },
      "source": [
        "# df"
      ],
      "execution_count": null,
      "outputs": []
    },
    {
      "cell_type": "code",
      "metadata": {
        "id": "9vuiMRLtIzHR",
        "colab_type": "code",
        "colab": {}
      },
      "source": [
        "# df_val = df[int(len(df) * 9 // 10): ]\n",
        "# df_val.to_csv(\"df_val2.csv\", index=False)\n",
        "# df.to_csv(\"df_train2.csv\", index=False)"
      ],
      "execution_count": 18,
      "outputs": []
    },
    {
      "cell_type": "code",
      "metadata": {
        "id": "MSKXqakbtmn1",
        "colab_type": "code",
        "colab": {}
      },
      "source": [
        "# df.to_csv(\"df_train2.csv\", index=False)"
      ],
      "execution_count": 19,
      "outputs": []
    },
    {
      "cell_type": "code",
      "metadata": {
        "id": "qB6hx5vcInZX",
        "colab_type": "code",
        "colab": {
          "base_uri": "https://localhost:8080/",
          "height": 54
        },
        "outputId": "c4401a06-22ab-463c-fcf7-9b952458c7c1"
      },
      "source": [
        "%cd \"/content/drive/My Drive/src\"\n",
        "%pwd"
      ],
      "execution_count": 23,
      "outputs": [
        {
          "output_type": "stream",
          "text": [
            "/content/drive/My Drive/src\n"
          ],
          "name": "stdout"
        },
        {
          "output_type": "execute_result",
          "data": {
            "application/vnd.google.colaboratory.intrinsic+json": {
              "type": "string"
            },
            "text/plain": [
              "'/content/drive/My Drive/src'"
            ]
          },
          "metadata": {
            "tags": []
          },
          "execution_count": 23
        }
      ]
    },
    {
      "cell_type": "code",
      "metadata": {
        "id": "D1rUCp3UKWpA",
        "colab_type": "code",
        "colab": {
          "base_uri": "https://localhost:8080/",
          "height": 266
        },
        "outputId": "296ad2dc-add5-413b-cb88-4b4a6b70e2b3"
      },
      "source": [
        "!python train.py"
      ],
      "execution_count": null,
      "outputs": [
        {
          "output_type": "stream",
          "text": [
            "Data Loaders created\n",
            "Model loaded to device\n",
            "---------------- Training Started --------------\n",
            "  0% 0/2500 [00:00<?, ?it/s]/usr/local/lib/python3.6/dist-packages/torchvision/ops/boxes.py:101: UserWarning: This overload of nonzero is deprecated:\n",
            "\tnonzero()\n",
            "Consider using one of the following signatures instead:\n",
            "\tnonzero(*, bool as_tuple) (Triggered internally at  /pytorch/torch/csrc/utils/python_arg_parser.cpp:766.)\n",
            "  keep = keep.nonzero().squeeze(1)\n",
            "  6% 156/2500 [03:20<49:26,  1.27s/it]File not found\n",
            "  9% 231/2500 [04:56<48:19,  1.28s/it]File not found\n",
            " 10% 252/2500 [05:23<47:37,  1.27s/it]File not found\n",
            " 12% 299/2500 [06:23<46:27,  1.27s/it]"
          ],
          "name": "stdout"
        }
      ]
    },
    {
      "cell_type": "code",
      "metadata": {
        "id": "7_pKLefBLyzW",
        "colab_type": "code",
        "colab": {}
      },
      "source": [
        ""
      ],
      "execution_count": null,
      "outputs": []
    }
  ]
}